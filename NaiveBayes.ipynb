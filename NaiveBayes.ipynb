{
  "nbformat": 4,
  "nbformat_minor": 0,
  "metadata": {
    "colab": {
      "name": "NaiveBayes.ipynb",
      "provenance": [],
      "collapsed_sections": [],
      "include_colab_link": true
    },
    "kernelspec": {
      "name": "python3",
      "display_name": "Python 3"
    }
  },
  "cells": [
    {
      "cell_type": "markdown",
      "metadata": {
        "id": "view-in-github",
        "colab_type": "text"
      },
      "source": [
        "<a href=\"https://colab.research.google.com/github/monicasjsu/Machine_Learning/blob/main/NaiveBayes.ipynb\" target=\"_parent\"><img src=\"https://colab.research.google.com/assets/colab-badge.svg\" alt=\"Open In Colab\"/></a>"
      ]
    },
    {
      "cell_type": "markdown",
      "metadata": {
        "id": "M7pjWUIvvmvr"
      },
      "source": [
        "# Naive Bayes Assignment\n",
        "**Team SheCodes**\n",
        "1. Monica Dommaraju\n",
        "2. Asha Balshiram Aher\n",
        "3. Swati Ganesh Narkhede\n",
        "4. Sri Sruthi Chilukuri\n"
      ]
    },
    {
      "cell_type": "markdown",
      "metadata": {
        "id": "PqYdtQbSwMMi"
      },
      "source": [
        "#  Data Story\n",
        "The Goal of this assignement is to implement Naive Bayes classifier on the dataset and try to learn what is classification telling about the data(which has been covered in conclusion section).\n",
        "The dataset that we are working on consists of a subset of employee details such as Postion, Group, Salary, Satisfaction Level, Gender etc. and the class label to identify if the employee left the organization or still with the organization. This dataset consists of 1470 rows and 35 features. The ultimate goal of this project is to predict the employee attrition given the employee details. For this assignment we are going to analyze the few features and apply Naive Bayes Classifier."
      ]
    },
    {
      "cell_type": "markdown",
      "metadata": {
        "id": "WW_BKB0ezJ-J"
      },
      "source": [
        "#Data Set and Data Selection\n",
        "Dataset:\n",
        "\n",
        "We found the following dataset from Kaggle postled by IBM HR Analytics department.\n",
        "\n",
        "https://www.kaggle.com/pavansubhasht/ibm-hr-analytics-attrition-dataset https://drive.google.com/open?id=1_DsgvxZcBkLEhy7rZVbOqLTbxt7S28hQHCTiPRc3eio\n",
        "\n",
        "**Data Selection:**\n",
        "\n",
        "The Dataset that we have chosen don't have any missing values. So we tried to search for other related datasets that are related to employee attrition, but all the datasets that we found don't have any missing values. So,we have chosen the IBM dataset as we are interested in finding insights about the attrition rate of Technology heavy company such as IBM."
      ]
    },
    {
      "cell_type": "markdown",
      "metadata": {
        "id": "ppQ5aOnSzOu_"
      },
      "source": [
        "#Applying Naive Baye's Classifier"
      ]
    },
    {
      "cell_type": "code",
      "metadata": {
        "id": "Z6t_fvG2zVMY"
      },
      "source": [
        "import pandas as pd\n",
        "from sklearn.preprocessing import StandardScaler\n",
        "import matplotlib.pyplot as plt\n",
        "import seaborn as sns\n",
        "from sklearn.model_selection import train_test_split\n",
        "from sklearn import metrics\n"
      ],
      "execution_count": null,
      "outputs": []
    },
    {
      "cell_type": "code",
      "metadata": {
        "id": "TIiyxVDUzz5P",
        "outputId": "a2164b77-e584-4dd4-98fd-8355015b259a",
        "colab": {
          "base_uri": "https://localhost:8080/",
          "height": 124
        }
      },
      "source": [
        "from google.colab import drive\n",
        "drive.mount('/content/drive')"
      ],
      "execution_count": null,
      "outputs": [
        {
          "output_type": "stream",
          "text": [
            "Go to this URL in a browser: https://accounts.google.com/o/oauth2/auth?client_id=947318989803-6bn6qk8qdgf4n4g3pfee6491hc0brc4i.apps.googleusercontent.com&redirect_uri=urn%3aietf%3awg%3aoauth%3a2.0%3aoob&response_type=code&scope=email%20https%3a%2f%2fwww.googleapis.com%2fauth%2fdocs.test%20https%3a%2f%2fwww.googleapis.com%2fauth%2fdrive%20https%3a%2f%2fwww.googleapis.com%2fauth%2fdrive.photos.readonly%20https%3a%2f%2fwww.googleapis.com%2fauth%2fpeopleapi.readonly\n",
            "\n",
            "Enter your authorization code:\n",
            "··········\n",
            "Mounted at /content/drive\n"
          ],
          "name": "stdout"
        }
      ]
    },
    {
      "cell_type": "markdown",
      "metadata": {
        "id": "8RiXDGYH0XNm"
      },
      "source": [
        "**Loading the dataset into pandas dataframe and describing the data to draw few insights from it**."
      ]
    },
    {
      "cell_type": "code",
      "metadata": {
        "id": "Tz-tnFmL0RpE"
      },
      "source": [
        "df = pd.read_csv(\"/content/drive/Shared drives/SheCodes/HR_Employee_Attrition.csv\",sep=',')"
      ],
      "execution_count": null,
      "outputs": []
    },
    {
      "cell_type": "code",
      "metadata": {
        "id": "ciSy8-BF0UjL",
        "outputId": "dcb39aa7-6bc6-40b5-bc31-1cd000e3d9ce",
        "colab": {
          "base_uri": "https://localhost:8080/",
          "height": 320
        }
      },
      "source": [
        "df.describe()\n"
      ],
      "execution_count": null,
      "outputs": [
        {
          "output_type": "execute_result",
          "data": {
            "text/html": [
              "<div>\n",
              "<style scoped>\n",
              "    .dataframe tbody tr th:only-of-type {\n",
              "        vertical-align: middle;\n",
              "    }\n",
              "\n",
              "    .dataframe tbody tr th {\n",
              "        vertical-align: top;\n",
              "    }\n",
              "\n",
              "    .dataframe thead th {\n",
              "        text-align: right;\n",
              "    }\n",
              "</style>\n",
              "<table border=\"1\" class=\"dataframe\">\n",
              "  <thead>\n",
              "    <tr style=\"text-align: right;\">\n",
              "      <th></th>\n",
              "      <th>Age</th>\n",
              "      <th>DailyRate</th>\n",
              "      <th>DistanceFromHome</th>\n",
              "      <th>Education</th>\n",
              "      <th>EmployeeCount</th>\n",
              "      <th>EmployeeNumber</th>\n",
              "      <th>EnvironmentSatisfaction</th>\n",
              "      <th>HourlyRate</th>\n",
              "      <th>JobInvolvement</th>\n",
              "      <th>JobLevel</th>\n",
              "      <th>JobSatisfaction</th>\n",
              "      <th>MonthlyIncome</th>\n",
              "      <th>MonthlyRate</th>\n",
              "      <th>NumCompaniesWorked</th>\n",
              "      <th>PercentSalaryHike</th>\n",
              "      <th>PerformanceRating</th>\n",
              "      <th>RelationshipSatisfaction</th>\n",
              "      <th>StandardHours</th>\n",
              "      <th>StockOptionLevel</th>\n",
              "      <th>TotalWorkingYears</th>\n",
              "      <th>TrainingTimesLastYear</th>\n",
              "      <th>WorkLifeBalance</th>\n",
              "      <th>YearsAtCompany</th>\n",
              "      <th>YearsInCurrentRole</th>\n",
              "      <th>YearsSinceLastPromotion</th>\n",
              "      <th>YearsWithCurrManager</th>\n",
              "    </tr>\n",
              "  </thead>\n",
              "  <tbody>\n",
              "    <tr>\n",
              "      <th>count</th>\n",
              "      <td>1470.000000</td>\n",
              "      <td>1470.000000</td>\n",
              "      <td>1470.000000</td>\n",
              "      <td>1470.000000</td>\n",
              "      <td>1470.0</td>\n",
              "      <td>1470.000000</td>\n",
              "      <td>1470.000000</td>\n",
              "      <td>1470.000000</td>\n",
              "      <td>1470.000000</td>\n",
              "      <td>1470.000000</td>\n",
              "      <td>1470.000000</td>\n",
              "      <td>1470.000000</td>\n",
              "      <td>1470.000000</td>\n",
              "      <td>1470.000000</td>\n",
              "      <td>1470.000000</td>\n",
              "      <td>1470.000000</td>\n",
              "      <td>1470.000000</td>\n",
              "      <td>1470.0</td>\n",
              "      <td>1470.000000</td>\n",
              "      <td>1470.000000</td>\n",
              "      <td>1470.000000</td>\n",
              "      <td>1470.000000</td>\n",
              "      <td>1470.000000</td>\n",
              "      <td>1470.000000</td>\n",
              "      <td>1470.000000</td>\n",
              "      <td>1470.000000</td>\n",
              "    </tr>\n",
              "    <tr>\n",
              "      <th>mean</th>\n",
              "      <td>36.923810</td>\n",
              "      <td>802.485714</td>\n",
              "      <td>9.192517</td>\n",
              "      <td>2.912925</td>\n",
              "      <td>1.0</td>\n",
              "      <td>1024.865306</td>\n",
              "      <td>2.721769</td>\n",
              "      <td>65.891156</td>\n",
              "      <td>2.729932</td>\n",
              "      <td>2.063946</td>\n",
              "      <td>2.728571</td>\n",
              "      <td>6502.931293</td>\n",
              "      <td>14313.103401</td>\n",
              "      <td>2.693197</td>\n",
              "      <td>15.209524</td>\n",
              "      <td>3.153741</td>\n",
              "      <td>2.712245</td>\n",
              "      <td>80.0</td>\n",
              "      <td>0.793878</td>\n",
              "      <td>11.279592</td>\n",
              "      <td>2.799320</td>\n",
              "      <td>2.761224</td>\n",
              "      <td>7.008163</td>\n",
              "      <td>4.229252</td>\n",
              "      <td>2.187755</td>\n",
              "      <td>4.123129</td>\n",
              "    </tr>\n",
              "    <tr>\n",
              "      <th>std</th>\n",
              "      <td>9.135373</td>\n",
              "      <td>403.509100</td>\n",
              "      <td>8.106864</td>\n",
              "      <td>1.024165</td>\n",
              "      <td>0.0</td>\n",
              "      <td>602.024335</td>\n",
              "      <td>1.093082</td>\n",
              "      <td>20.329428</td>\n",
              "      <td>0.711561</td>\n",
              "      <td>1.106940</td>\n",
              "      <td>1.102846</td>\n",
              "      <td>4707.956783</td>\n",
              "      <td>7117.786044</td>\n",
              "      <td>2.498009</td>\n",
              "      <td>3.659938</td>\n",
              "      <td>0.360824</td>\n",
              "      <td>1.081209</td>\n",
              "      <td>0.0</td>\n",
              "      <td>0.852077</td>\n",
              "      <td>7.780782</td>\n",
              "      <td>1.289271</td>\n",
              "      <td>0.706476</td>\n",
              "      <td>6.126525</td>\n",
              "      <td>3.623137</td>\n",
              "      <td>3.222430</td>\n",
              "      <td>3.568136</td>\n",
              "    </tr>\n",
              "    <tr>\n",
              "      <th>min</th>\n",
              "      <td>18.000000</td>\n",
              "      <td>102.000000</td>\n",
              "      <td>1.000000</td>\n",
              "      <td>1.000000</td>\n",
              "      <td>1.0</td>\n",
              "      <td>1.000000</td>\n",
              "      <td>1.000000</td>\n",
              "      <td>30.000000</td>\n",
              "      <td>1.000000</td>\n",
              "      <td>1.000000</td>\n",
              "      <td>1.000000</td>\n",
              "      <td>1009.000000</td>\n",
              "      <td>2094.000000</td>\n",
              "      <td>0.000000</td>\n",
              "      <td>11.000000</td>\n",
              "      <td>3.000000</td>\n",
              "      <td>1.000000</td>\n",
              "      <td>80.0</td>\n",
              "      <td>0.000000</td>\n",
              "      <td>0.000000</td>\n",
              "      <td>0.000000</td>\n",
              "      <td>1.000000</td>\n",
              "      <td>0.000000</td>\n",
              "      <td>0.000000</td>\n",
              "      <td>0.000000</td>\n",
              "      <td>0.000000</td>\n",
              "    </tr>\n",
              "    <tr>\n",
              "      <th>25%</th>\n",
              "      <td>30.000000</td>\n",
              "      <td>465.000000</td>\n",
              "      <td>2.000000</td>\n",
              "      <td>2.000000</td>\n",
              "      <td>1.0</td>\n",
              "      <td>491.250000</td>\n",
              "      <td>2.000000</td>\n",
              "      <td>48.000000</td>\n",
              "      <td>2.000000</td>\n",
              "      <td>1.000000</td>\n",
              "      <td>2.000000</td>\n",
              "      <td>2911.000000</td>\n",
              "      <td>8047.000000</td>\n",
              "      <td>1.000000</td>\n",
              "      <td>12.000000</td>\n",
              "      <td>3.000000</td>\n",
              "      <td>2.000000</td>\n",
              "      <td>80.0</td>\n",
              "      <td>0.000000</td>\n",
              "      <td>6.000000</td>\n",
              "      <td>2.000000</td>\n",
              "      <td>2.000000</td>\n",
              "      <td>3.000000</td>\n",
              "      <td>2.000000</td>\n",
              "      <td>0.000000</td>\n",
              "      <td>2.000000</td>\n",
              "    </tr>\n",
              "    <tr>\n",
              "      <th>50%</th>\n",
              "      <td>36.000000</td>\n",
              "      <td>802.000000</td>\n",
              "      <td>7.000000</td>\n",
              "      <td>3.000000</td>\n",
              "      <td>1.0</td>\n",
              "      <td>1020.500000</td>\n",
              "      <td>3.000000</td>\n",
              "      <td>66.000000</td>\n",
              "      <td>3.000000</td>\n",
              "      <td>2.000000</td>\n",
              "      <td>3.000000</td>\n",
              "      <td>4919.000000</td>\n",
              "      <td>14235.500000</td>\n",
              "      <td>2.000000</td>\n",
              "      <td>14.000000</td>\n",
              "      <td>3.000000</td>\n",
              "      <td>3.000000</td>\n",
              "      <td>80.0</td>\n",
              "      <td>1.000000</td>\n",
              "      <td>10.000000</td>\n",
              "      <td>3.000000</td>\n",
              "      <td>3.000000</td>\n",
              "      <td>5.000000</td>\n",
              "      <td>3.000000</td>\n",
              "      <td>1.000000</td>\n",
              "      <td>3.000000</td>\n",
              "    </tr>\n",
              "    <tr>\n",
              "      <th>75%</th>\n",
              "      <td>43.000000</td>\n",
              "      <td>1157.000000</td>\n",
              "      <td>14.000000</td>\n",
              "      <td>4.000000</td>\n",
              "      <td>1.0</td>\n",
              "      <td>1555.750000</td>\n",
              "      <td>4.000000</td>\n",
              "      <td>83.750000</td>\n",
              "      <td>3.000000</td>\n",
              "      <td>3.000000</td>\n",
              "      <td>4.000000</td>\n",
              "      <td>8379.000000</td>\n",
              "      <td>20461.500000</td>\n",
              "      <td>4.000000</td>\n",
              "      <td>18.000000</td>\n",
              "      <td>3.000000</td>\n",
              "      <td>4.000000</td>\n",
              "      <td>80.0</td>\n",
              "      <td>1.000000</td>\n",
              "      <td>15.000000</td>\n",
              "      <td>3.000000</td>\n",
              "      <td>3.000000</td>\n",
              "      <td>9.000000</td>\n",
              "      <td>7.000000</td>\n",
              "      <td>3.000000</td>\n",
              "      <td>7.000000</td>\n",
              "    </tr>\n",
              "    <tr>\n",
              "      <th>max</th>\n",
              "      <td>60.000000</td>\n",
              "      <td>1499.000000</td>\n",
              "      <td>29.000000</td>\n",
              "      <td>5.000000</td>\n",
              "      <td>1.0</td>\n",
              "      <td>2068.000000</td>\n",
              "      <td>4.000000</td>\n",
              "      <td>100.000000</td>\n",
              "      <td>4.000000</td>\n",
              "      <td>5.000000</td>\n",
              "      <td>4.000000</td>\n",
              "      <td>19999.000000</td>\n",
              "      <td>26999.000000</td>\n",
              "      <td>9.000000</td>\n",
              "      <td>25.000000</td>\n",
              "      <td>4.000000</td>\n",
              "      <td>4.000000</td>\n",
              "      <td>80.0</td>\n",
              "      <td>3.000000</td>\n",
              "      <td>40.000000</td>\n",
              "      <td>6.000000</td>\n",
              "      <td>4.000000</td>\n",
              "      <td>40.000000</td>\n",
              "      <td>18.000000</td>\n",
              "      <td>15.000000</td>\n",
              "      <td>17.000000</td>\n",
              "    </tr>\n",
              "  </tbody>\n",
              "</table>\n",
              "</div>"
            ],
            "text/plain": [
              "               Age    DailyRate  ...  YearsSinceLastPromotion  YearsWithCurrManager\n",
              "count  1470.000000  1470.000000  ...              1470.000000           1470.000000\n",
              "mean     36.923810   802.485714  ...                 2.187755              4.123129\n",
              "std       9.135373   403.509100  ...                 3.222430              3.568136\n",
              "min      18.000000   102.000000  ...                 0.000000              0.000000\n",
              "25%      30.000000   465.000000  ...                 0.000000              2.000000\n",
              "50%      36.000000   802.000000  ...                 1.000000              3.000000\n",
              "75%      43.000000  1157.000000  ...                 3.000000              7.000000\n",
              "max      60.000000  1499.000000  ...                15.000000             17.000000\n",
              "\n",
              "[8 rows x 26 columns]"
            ]
          },
          "metadata": {
            "tags": []
          },
          "execution_count": 4
        }
      ]
    },
    {
      "cell_type": "markdown",
      "metadata": {
        "id": "srSsvITY0xki"
      },
      "source": [
        "**We check if there are any singular values in any of our features of our dataset; remove those columns as they don't contribute to our model building.**"
      ]
    },
    {
      "cell_type": "code",
      "metadata": {
        "id": "q5XVhFzL1Cdw",
        "outputId": "83a7fe82-c9fa-4928-ba96-8ac2dc52c7d6",
        "colab": {
          "base_uri": "https://localhost:8080/",
          "height": 69
        }
      },
      "source": [
        "singular_values =[]\n",
        "for i in df.columns:\n",
        "  if len(df[i].unique())==1:\n",
        "        print(i)\n",
        "        singular_values.append(i)"
      ],
      "execution_count": null,
      "outputs": [
        {
          "output_type": "stream",
          "text": [
            "EmployeeCount\n",
            "Over18\n",
            "StandardHours\n"
          ],
          "name": "stdout"
        }
      ]
    },
    {
      "cell_type": "markdown",
      "metadata": {
        "id": "p44SNiAj2AD5"
      },
      "source": [
        "**Dropping the colums: EmployeeCount, Over18, StandardHours**"
      ]
    },
    {
      "cell_type": "code",
      "metadata": {
        "id": "JqQMRfhi1438",
        "outputId": "327bcc2e-45ca-4bc5-fc93-d296a0fdfeba",
        "colab": {
          "base_uri": "https://localhost:8080/",
          "height": 660
        }
      },
      "source": [
        "df.drop(singular_values, axis=1, inplace=True)\n",
        "df.info()"
      ],
      "execution_count": null,
      "outputs": [
        {
          "output_type": "stream",
          "text": [
            "<class 'pandas.core.frame.DataFrame'>\n",
            "RangeIndex: 1470 entries, 0 to 1469\n",
            "Data columns (total 32 columns):\n",
            "Age                         1470 non-null int64\n",
            "Attrition                   1470 non-null object\n",
            "BusinessTravel              1470 non-null object\n",
            "DailyRate                   1470 non-null int64\n",
            "Department                  1470 non-null object\n",
            "DistanceFromHome            1470 non-null int64\n",
            "Education                   1470 non-null int64\n",
            "EducationField              1470 non-null object\n",
            "EmployeeNumber              1470 non-null int64\n",
            "EnvironmentSatisfaction     1470 non-null int64\n",
            "Gender                      1470 non-null object\n",
            "HourlyRate                  1470 non-null int64\n",
            "JobInvolvement              1470 non-null int64\n",
            "JobLevel                    1470 non-null int64\n",
            "JobRole                     1470 non-null object\n",
            "JobSatisfaction             1470 non-null int64\n",
            "MaritalStatus               1470 non-null object\n",
            "MonthlyIncome               1470 non-null int64\n",
            "MonthlyRate                 1470 non-null int64\n",
            "NumCompaniesWorked          1470 non-null int64\n",
            "OverTime                    1470 non-null object\n",
            "PercentSalaryHike           1470 non-null int64\n",
            "PerformanceRating           1470 non-null int64\n",
            "RelationshipSatisfaction    1470 non-null int64\n",
            "StockOptionLevel            1470 non-null int64\n",
            "TotalWorkingYears           1470 non-null int64\n",
            "TrainingTimesLastYear       1470 non-null int64\n",
            "WorkLifeBalance             1470 non-null int64\n",
            "YearsAtCompany              1470 non-null int64\n",
            "YearsInCurrentRole          1470 non-null int64\n",
            "YearsSinceLastPromotion     1470 non-null int64\n",
            "YearsWithCurrManager        1470 non-null int64\n",
            "dtypes: int64(24), object(8)\n",
            "memory usage: 367.6+ KB\n"
          ],
          "name": "stdout"
        }
      ]
    },
    {
      "cell_type": "markdown",
      "metadata": {
        "id": "bo9TtD3Z2YWG"
      },
      "source": [
        "***As we can see above, there are certain features in the dataset that are of type\"object\"; hence we change it to categorical type so as to later change them into interger type using cat.codes***"
      ]
    },
    {
      "cell_type": "code",
      "metadata": {
        "id": "o8O5ObqJ0vMc"
      },
      "source": [
        "for col in ['BusinessTravel', 'Gender', 'JobRole', 'OverTime', 'EducationField', 'Department', 'MaritalStatus','Attrition']:\n",
        "    df[col] = df[col].astype('category')\n",
        "    df[col] = df[col].cat.codes"
      ],
      "execution_count": null,
      "outputs": []
    },
    {
      "cell_type": "code",
      "metadata": {
        "id": "4mtFwJQu3B4k",
        "outputId": "3573ece8-c774-4905-8f3d-fa4c48fd103e",
        "colab": {
          "base_uri": "https://localhost:8080/",
          "height": 660
        }
      },
      "source": [
        "df.info()"
      ],
      "execution_count": null,
      "outputs": [
        {
          "output_type": "stream",
          "text": [
            "<class 'pandas.core.frame.DataFrame'>\n",
            "RangeIndex: 1470 entries, 0 to 1469\n",
            "Data columns (total 32 columns):\n",
            "Age                         1470 non-null int64\n",
            "Attrition                   1470 non-null int8\n",
            "BusinessTravel              1470 non-null int8\n",
            "DailyRate                   1470 non-null int64\n",
            "Department                  1470 non-null int8\n",
            "DistanceFromHome            1470 non-null int64\n",
            "Education                   1470 non-null int64\n",
            "EducationField              1470 non-null int8\n",
            "EmployeeNumber              1470 non-null int64\n",
            "EnvironmentSatisfaction     1470 non-null int64\n",
            "Gender                      1470 non-null int8\n",
            "HourlyRate                  1470 non-null int64\n",
            "JobInvolvement              1470 non-null int64\n",
            "JobLevel                    1470 non-null int64\n",
            "JobRole                     1470 non-null int8\n",
            "JobSatisfaction             1470 non-null int64\n",
            "MaritalStatus               1470 non-null int8\n",
            "MonthlyIncome               1470 non-null int64\n",
            "MonthlyRate                 1470 non-null int64\n",
            "NumCompaniesWorked          1470 non-null int64\n",
            "OverTime                    1470 non-null int8\n",
            "PercentSalaryHike           1470 non-null int64\n",
            "PerformanceRating           1470 non-null int64\n",
            "RelationshipSatisfaction    1470 non-null int64\n",
            "StockOptionLevel            1470 non-null int64\n",
            "TotalWorkingYears           1470 non-null int64\n",
            "TrainingTimesLastYear       1470 non-null int64\n",
            "WorkLifeBalance             1470 non-null int64\n",
            "YearsAtCompany              1470 non-null int64\n",
            "YearsInCurrentRole          1470 non-null int64\n",
            "YearsSinceLastPromotion     1470 non-null int64\n",
            "YearsWithCurrManager        1470 non-null int64\n",
            "dtypes: int64(24), int8(8)\n",
            "memory usage: 287.2 KB\n"
          ],
          "name": "stdout"
        }
      ]
    },
    {
      "cell_type": "markdown",
      "metadata": {
        "id": "c_OdfP9u5_t6"
      },
      "source": [
        "**Splitting the data to 70% of training data and 30% of test data to train our model**"
      ]
    },
    {
      "cell_type": "code",
      "metadata": {
        "id": "z3bmsse13Eix"
      },
      "source": [
        "\n",
        "Y = df.Attrition\n",
        "X = df.drop(['Attrition'], axis=1)"
      ],
      "execution_count": null,
      "outputs": []
    },
    {
      "cell_type": "code",
      "metadata": {
        "id": "ptejTQ7u6o-T",
        "outputId": "4486b2e6-15f5-4bec-8489-7ab37982acfe",
        "colab": {
          "base_uri": "https://localhost:8080/",
          "height": 260
        }
      },
      "source": [
        "print(X)"
      ],
      "execution_count": null,
      "outputs": [
        {
          "output_type": "stream",
          "text": [
            "      Age  BusinessTravel  ...  YearsSinceLastPromotion  YearsWithCurrManager\n",
            "0      41               2  ...                        0                     5\n",
            "1      49               1  ...                        1                     7\n",
            "2      37               2  ...                        0                     0\n",
            "3      33               1  ...                        3                     0\n",
            "4      27               2  ...                        2                     2\n",
            "...   ...             ...  ...                      ...                   ...\n",
            "1465   36               1  ...                        0                     3\n",
            "1466   39               2  ...                        1                     7\n",
            "1467   27               2  ...                        0                     3\n",
            "1468   49               1  ...                        0                     8\n",
            "1469   34               2  ...                        1                     2\n",
            "\n",
            "[1470 rows x 31 columns]\n"
          ],
          "name": "stdout"
        }
      ]
    },
    {
      "cell_type": "code",
      "metadata": {
        "id": "s7BDuQCM7tXB",
        "outputId": "7d23bc7b-5606-4179-aa84-d5cf8073d97f",
        "colab": {
          "base_uri": "https://localhost:8080/",
          "height": 225
        }
      },
      "source": [
        "print(Y)"
      ],
      "execution_count": null,
      "outputs": [
        {
          "output_type": "stream",
          "text": [
            "0       1\n",
            "1       0\n",
            "2       1\n",
            "3       0\n",
            "4       0\n",
            "       ..\n",
            "1465    0\n",
            "1466    0\n",
            "1467    0\n",
            "1468    0\n",
            "1469    0\n",
            "Name: Attrition, Length: 1470, dtype: int8\n"
          ],
          "name": "stdout"
        }
      ]
    },
    {
      "cell_type": "code",
      "metadata": {
        "id": "h3lHuNTa7y3n"
      },
      "source": [
        "x_train, x_test, y_train, y_test = train_test_split(X, Y, test_size=0.3)"
      ],
      "execution_count": null,
      "outputs": []
    },
    {
      "cell_type": "markdown",
      "metadata": {
        "id": "V3g9w3sj96Py"
      },
      "source": [
        "**Implementing Naive Bayes classifier for performing the Binary classification**"
      ]
    },
    {
      "cell_type": "code",
      "metadata": {
        "id": "YUoFCUd4-DCM",
        "outputId": "9105f874-b1a3-4fa1-806f-a12fdf8d3c7d",
        "colab": {
          "base_uri": "https://localhost:8080/",
          "height": 34
        }
      },
      "source": [
        "from sklearn.naive_bayes import GaussianNB\n",
        "from sklearn.metrics import accuracy_score\n",
        "model = GaussianNB()\n",
        "\n",
        "model.fit(x_train, y_train)\n",
        "y_pred = model.predict(x_test)\n",
        "\n",
        "print(accuracy_score(y_test,y_pred)*100)"
      ],
      "execution_count": null,
      "outputs": [
        {
          "output_type": "stream",
          "text": [
            "83.6734693877551\n"
          ],
          "name": "stdout"
        }
      ]
    },
    {
      "cell_type": "code",
      "metadata": {
        "id": "KMgP50Bo-RvH",
        "outputId": "c587c63c-4e0b-4560-eb18-29ae45ea48db",
        "colab": {
          "base_uri": "https://localhost:8080/",
          "height": 52
        }
      },
      "source": [
        "from sklearn.metrics import confusion_matrix\n",
        "print(confusion_matrix(y_test, y_pred))"
      ],
      "execution_count": null,
      "outputs": [
        {
          "output_type": "stream",
          "text": [
            "[[330  48]\n",
            " [ 24  39]]\n"
          ],
          "name": "stdout"
        }
      ]
    },
    {
      "cell_type": "code",
      "metadata": {
        "id": "kT__jlqa_GmQ",
        "outputId": "87e411df-b6d3-417e-f98b-2bae791016a2",
        "colab": {
          "base_uri": "https://localhost:8080/",
          "height": 52
        }
      },
      "source": [
        "#print(\"Accuracy:\",metrics.accuracy_score(y_test, y_pred))\n",
        "print(\"Precision:\",metrics.precision_score(y_test, y_pred))\n",
        "print(\"Recall:\",metrics.recall_score(y_test, y_pred))"
      ],
      "execution_count": null,
      "outputs": [
        {
          "output_type": "stream",
          "text": [
            "Precision: 0.4482758620689655\n",
            "Recall: 0.6190476190476191\n"
          ],
          "name": "stdout"
        }
      ]
    },
    {
      "cell_type": "markdown",
      "metadata": {
        "id": "nP61TEik-g-n"
      },
      "source": [
        "#Conclusion\n",
        "\n",
        "The accuracy of our model is 79% nearly; However, other models like Decision Tree and Logistic regression have clearly performed better than Naive Bayes on our data with higher accuracy and precision values.\n",
        "\n",
        "**Understanding Confusion Matrix**\n",
        "\n",
        "Clearly, the false postives and false negatives are in together(71+28) are 99 which means that our model has incorrectly classified 99 instances. False positives mean that \"No attrition\" has been classified as \"Attrition\" and False Negative means that \"Attrition\" has been classified as \"No Attrition\" instances. \n",
        "\n",
        "We have implemented Naive Bayes Classification algorithm by choosing our target label or Y attribute as \"Attrition\". \n",
        "\n",
        "This classification algorithm is a probabilistic algorithm based on the popular Bayes theorem.\n",
        "However, this algorithm works most efficiently when the predictors or the featutes of our dataset are completely independent of each other. In a realistic scenario, we don't have a confirmation of how independent of each other are the features in our data set.\n",
        "\n"
      ]
    }
  ]
}