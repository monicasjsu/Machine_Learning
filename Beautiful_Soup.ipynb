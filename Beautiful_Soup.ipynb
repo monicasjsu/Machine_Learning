{
  "nbformat": 4,
  "nbformat_minor": 0,
  "metadata": {
    "colab": {
      "name": "Beautiful_Soup.ipynb",
      "provenance": [],
      "authorship_tag": "ABX9TyMbKWDWcba89x3wIENKTOpS",
      "include_colab_link": true
    },
    "kernelspec": {
      "name": "python3",
      "display_name": "Python 3"
    }
  },
  "cells": [
    {
      "cell_type": "markdown",
      "metadata": {
        "id": "view-in-github",
        "colab_type": "text"
      },
      "source": [
        "<a href=\"https://colab.research.google.com/github/monicasjsu/Machine_Learning/blob/main/Beautiful_Soup.ipynb\" target=\"_parent\"><img src=\"https://colab.research.google.com/assets/colab-badge.svg\" alt=\"Open In Colab\"/></a>"
      ]
    },
    {
      "cell_type": "markdown",
      "metadata": {
        "id": "xxF651A-IAM_"
      },
      "source": [
        "# Beautiful Soup Assignment\n",
        "**Team SheCodes**\n",
        "1. Monica Dommaraju\n",
        "2. Asha Balshiram Aher\n",
        "3. Swati Ganesh Narkhede\n",
        "4. Sri Sruthi Chilukuri\n"
      ]
    },
    {
      "cell_type": "markdown",
      "metadata": {
        "id": "aOs4TqXSom2k"
      },
      "source": [
        "**We used web scraping techniques using BeautifulSoup to extract the salaries for employees in different roles in california using glassdoor website. We have also generated a salaries.csv file which has the low, average and high salaries specific to their roles**"
      ]
    },
    {
      "cell_type": "code",
      "metadata": {
        "id": "oKV7h_IQolLy"
      },
      "source": [
        "import pandas as pd\n",
        "import requests\n",
        "from bs4 import BeautifulSoup\n",
        "import time"
      ],
      "execution_count": null,
      "outputs": []
    },
    {
      "cell_type": "code",
      "metadata": {
        "id": "lROeVrvGoOdZ"
      },
      "source": [
        "headers = ['job_title', 'avg_salary', 'low_salary', 'high_salary']\n",
        "df = pd.DataFrame(columns=headers)"
      ],
      "execution_count": null,
      "outputs": []
    },
    {
      "cell_type": "code",
      "metadata": {
        "id": "DKZg0AvP_JKy"
      },
      "source": [
        "web_pages = [\n",
        "    'https://www.glassdoor.com/Salaries/california-healthcare-representative-salary-SRCH_IL.0,10_IS2280_KO11,36.htm',\n",
        "    'https://www.glassdoor.com/Salaries/california-human-resources-salary-SRCH_IL.0,10_IS2280_KO11,26.htm',\n",
        "    'https://www.glassdoor.com/Salaries/california-laboratory-technician-salary-SRCH_IL.0,10_IS2280_KO11,32.htm',\n",
        "    'https://www.glassdoor.com/Salaries/california-manufacturing-director-salary-SRCH_IL.0,10_IS2280_KO11,33.htm',\n",
        "    'https://www.glassdoor.com/Salaries/california-research-director-salary-SRCH_IL.0,10_IS2280_KO11,28.htm',\n",
        "    'https://www.glassdoor.com/Salaries/california-research-scientist-salary-SRCH_IL.0,10_IS2280_KO11,29.htm'\n",
        "]"
      ],
      "execution_count": null,
      "outputs": []
    },
    {
      "cell_type": "code",
      "metadata": {
        "id": "0C0RvoNroT-p"
      },
      "source": [
        "for page in web_pages:\n",
        "    page_response = requests.get(page, headers={'User-Agent': 'Mozilla/5.0'}, timeout=5)\n",
        "    page_content = BeautifulSoup(page_response.content, \"html.parser\")\n",
        "    time.sleep(2)\n",
        "    row = {}\n",
        "    job = page_content.find('h1', {'class', 'undefined col-md-10 col-12'}).next\n",
        "    row['job_title'] = str(job).replace(' Salaries in California', '')\n",
        "    avg_salary = page_content.find('span', {'class', 'occMedianModule__OccMedianBasePayStyle__payNumber'})\n",
        "    row['avg_salary'] = str(avg_salary.next)\n",
        "    salary_range = page_content.find_all('div', {'class', 'common__HistogramStyle__labelWrapper'})\n",
        "    row['high_salary'] = str(salary_range.__getitem__(salary_range.__len__()-1).next)\n",
        "    row['low_salary'] = str(salary_range.__getitem__(0).next)\n",
        "\n",
        "    df = df.append(row, ignore_index=True)"
      ],
      "execution_count": null,
      "outputs": []
    },
    {
      "cell_type": "code",
      "metadata": {
        "id": "G-uIwdr6G72T",
        "outputId": "d5b32644-3832-4e6b-ead2-941a2f179670",
        "colab": {
          "base_uri": "https://localhost:8080/",
          "height": 136
        }
      },
      "source": [
        "print(df)\n",
        "df.to_csv('salaries.csv')"
      ],
      "execution_count": null,
      "outputs": [
        {
          "output_type": "stream",
          "text": [
            "                   job_title avg_salary low_salary high_salary\n",
            "0  Healthcare Representative    $30,875       $24K        $40K\n",
            "1            Human Resources    $57,775       $38K        $88K\n",
            "2      Laboratory Technician    $34,769       $25K        $47K\n",
            "3     Manufacturing Director   $130,594       $95K       $171K\n",
            "4          Research Director   $116,713       $77K       $168K\n",
            "5         Research Scientist    $77,173       $51K       $112K\n"
          ],
          "name": "stdout"
        }
      ]
    }
  ]
}